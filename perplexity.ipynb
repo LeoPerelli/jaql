{
 "cells": [
  {
   "cell_type": "code",
   "execution_count": 2,
   "metadata": {},
   "outputs": [
    {
     "name": "stdout",
     "output_type": "stream",
     "text": [
      "model size: 497759232 / bit | 497.76 / MB\n"
     ]
    },
    {
     "name": "stderr",
     "output_type": "stream",
     "text": [
      "Quantising model layers: 100%|██████████| 148/148 [00:00<00:00, 314.82it/s]\n"
     ]
    },
    {
     "name": "stdout",
     "output_type": "stream",
     "text": [
      "model size: 165199104 / bit | 165.20 / MB\n"
     ]
    },
    {
     "data": {
      "application/vnd.jupyter.widget-view+json": {
       "model_id": "4ad0868fe995481eb08849e54b3df583",
       "version_major": 2,
       "version_minor": 0
      },
      "text/plain": [
       "  0%|          | 0/145 [00:00<?, ?it/s]"
      ]
     },
     "metadata": {},
     "output_type": "display_data"
    },
    {
     "name": "stdout",
     "output_type": "stream",
     "text": [
      "model size: 497759232 / bit | 497.76 / MB\n"
     ]
    },
    {
     "name": "stderr",
     "output_type": "stream",
     "text": [
      "Quantising model layers: 100%|██████████| 148/148 [00:00<00:00, 328.80it/s]\n"
     ]
    },
    {
     "name": "stdout",
     "output_type": "stream",
     "text": [
      "model size: 144819456 / bit | 144.82 / MB\n"
     ]
    },
    {
     "data": {
      "application/vnd.jupyter.widget-view+json": {
       "model_id": "d012fe185cba4dc99268955b20b78f0b",
       "version_major": 2,
       "version_minor": 0
      },
      "text/plain": [
       "  0%|          | 0/145 [00:00<?, ?it/s]"
      ]
     },
     "metadata": {},
     "output_type": "display_data"
    },
    {
     "name": "stdout",
     "output_type": "stream",
     "text": [
      "model size: 497759232 / bit | 497.76 / MB\n"
     ]
    },
    {
     "name": "stderr",
     "output_type": "stream",
     "text": [
      "Quantising model layers: 100%|██████████| 148/148 [00:00<00:00, 338.96it/s]\n"
     ]
    },
    {
     "name": "stdout",
     "output_type": "stream",
     "text": [
      "model size: 134629632 / bit | 134.63 / MB\n"
     ]
    },
    {
     "data": {
      "application/vnd.jupyter.widget-view+json": {
       "model_id": "776f7cac362b4e0f814fdf086c0d2780",
       "version_major": 2,
       "version_minor": 0
      },
      "text/plain": [
       "  0%|          | 0/145 [00:00<?, ?it/s]"
      ]
     },
     "metadata": {},
     "output_type": "display_data"
    },
    {
     "data": {
      "application/vnd.jupyter.widget-view+json": {
       "model_id": "5440845e354f43eea66a5d31f310efaa",
       "version_major": 2,
       "version_minor": 0
      },
      "text/plain": [
       "  0%|          | 0/145 [00:00<?, ?it/s]"
      ]
     },
     "metadata": {},
     "output_type": "display_data"
    },
    {
     "name": "stdout",
     "output_type": "stream",
     "text": [
      "[174.04702233875474, 177.15088416117325, 187.7257970190689, 159.90127864998038]\n"
     ]
    }
   ],
   "source": [
    "# Load model directly\n",
    "from transformers import AutoTokenizer, AutoModelForCausalLM\n",
    "from utils import quantise_model,get_model_memory_size, compute_quantisation_mse, Perplexity\n",
    "from datasets import load_dataset\n",
    "import torch\n",
    "from tqdm import tqdm\n",
    "\n",
    "\n",
    "def compute_perplexity(chunk_size = None):\n",
    "\n",
    "    tokenizer = AutoTokenizer.from_pretrained(\"openai-community/gpt2\")\n",
    "    model = AutoModelForCausalLM.from_pretrained(\"openai-community/gpt2\")\n",
    "\n",
    "    text = [t for t in load_dataset(\"wikitext\", \"wikitext-2-raw-v1\", split=\"test\")['text'] if len(t) > 30]\n",
    "\n",
    "    if chunk_size:\n",
    "        get_model_memory_size(model)\n",
    "        model, parameter_mapping = quantise_model(model, chunk_size=chunk_size)\n",
    "        get_model_memory_size(model, parameter_mapping)\n",
    "\n",
    "\n",
    "    perplexity = Perplexity()\n",
    "    p = perplexity._compute(text, model, tokenizer, batch_size=16)\n",
    "\n",
    "    del model\n",
    "    torch.cuda.empty_cache()\n",
    "    return p['mean_perplexity']\n",
    "\n",
    "d = []\n",
    "for chunk in [32, 64, 128, None]:\n",
    "\n",
    "    d.append(compute_perplexity(chunk_size=chunk))\n",
    "\n",
    "print(d)\n",
    "\n",
    "\n"
   ]
  },
  {
   "cell_type": "code",
   "execution_count": null,
   "metadata": {},
   "outputs": [],
   "source": [
    "import torch\n",
    "from utils import quantise_tensor, dequantise_tensor, compute_quantisation_mse,get_tensor_memory_size\n",
    "\n",
    "t = torch.rand((10, 100))\n",
    "chunk_size = 256\n",
    "t_q, scales, locations = quantise_tensor(t, chunk_size)\n",
    "t_approx = dequantise_tensor(t_q, scales, locations, chunk_size)\n",
    "\n",
    "mse = compute_quantisation_mse(t, t_approx)\n",
    "\n",
    "print(f'Required memory: {get_tensor_memory_size(t)} vs {get_tensor_memory_size(t_q) + get_tensor_memory_size(scales) + get_tensor_memory_size(locations)}')"
   ]
  }
 ],
 "metadata": {
  "kernelspec": {
   "display_name": "pytorch",
   "language": "python",
   "name": "python3"
  },
  "language_info": {
   "codemirror_mode": {
    "name": "ipython",
    "version": 3
   },
   "file_extension": ".py",
   "mimetype": "text/x-python",
   "name": "python",
   "nbconvert_exporter": "python",
   "pygments_lexer": "ipython3",
   "version": "3.11.9"
  }
 },
 "nbformat": 4,
 "nbformat_minor": 2
}
