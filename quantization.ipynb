{
 "cells": [
  {
   "cell_type": "code",
   "execution_count": 23,
   "metadata": {},
   "outputs": [
    {
     "name": "stdout",
     "output_type": "stream",
     "text": [
      "MSE: 0.0722302794456482\n",
      "Norm: 18.426227569580078\n",
      "RelativeMSE: 0.392%\n",
      "Required memory: 4000 vs 1032\n"
     ]
    }
   ],
   "source": [
    "from utils import quantise_tensor_flat, dequantise_tensor_flat, compute_quantisation_mse,get_tensor_memory_size\n",
    "import torch\n",
    "\n",
    "t = torch.rand((10, 100))\n",
    "chunk_size = 256\n",
    "t_q, scales, locations = quantise_tensor_flat(t, chunk_size)\n",
    "t_approx = dequantise_tensor_flat(t_q, scales, locations, chunk_size)\n",
    "\n",
    "mse = compute_quantisation_mse(t.flatten(), t_approx)\n",
    "\n",
    "print(f'Required memory: {get_tensor_memory_size(t)} vs {get_tensor_memory_size(t_q) + get_tensor_memory_size(scales) + get_tensor_memory_size(locations)}')"
   ]
  }
 ],
 "metadata": {
  "kernelspec": {
   "display_name": "vae",
   "language": "python",
   "name": "python3"
  },
  "language_info": {
   "codemirror_mode": {
    "name": "ipython",
    "version": 3
   },
   "file_extension": ".py",
   "mimetype": "text/x-python",
   "name": "python",
   "nbconvert_exporter": "python",
   "pygments_lexer": "ipython3",
   "version": "3.10.13"
  }
 },
 "nbformat": 4,
 "nbformat_minor": 2
}
