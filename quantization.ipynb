{
 "cells": [
  {
   "cell_type": "code",
   "execution_count": 1,
   "metadata": {},
   "outputs": [
    {
     "name": "stdout",
     "output_type": "stream",
     "text": [
      "MSE: 0.0709843784570694\n",
      "Norm: 18.278217315673828\n",
      "RelativeMSE: 0.38836%\n",
      "MSE: 0.07208407670259476\n",
      "Norm: 18.6008243560791\n",
      "RelativeMSE: 0.38753%\n",
      "Required memory: 4000 vs 1032\n"
     ]
    }
   ],
   "source": [
    "import torch\n",
    "from utils import quantise_tensor, dequantise_tensor, compute_quantisation_mse,get_tensor_memory_size\n",
    "\n",
    "t = torch.rand((10, 100))\n",
    "chunk_size = 256\n",
    "t_q, scales, locations = quantise_tensor(t, chunk_size)\n",
    "t_approx = dequantise_tensor(t_q, scales, locations, chunk_size)\n",
    "\n",
    "mse = compute_quantisation_mse(t, t_approx)\n",
    "\n",
    "print(f'Required memory: {get_tensor_memory_size(t)} vs {get_tensor_memory_size(t_q) + get_tensor_memory_size(scales) + get_tensor_memory_size(locations)}')"
   ]
  },
  {
   "cell_type": "code",
   "execution_count": 3,
   "metadata": {},
   "outputs": [
    {
     "name": "stderr",
     "output_type": "stream",
     "text": [
      "Some weights of the model checkpoint at google-bert/bert-base-uncased were not used when initializing BertForMaskedLM: ['bert.pooler.dense.bias', 'bert.pooler.dense.weight', 'cls.seq_relationship.bias', 'cls.seq_relationship.weight']\n",
      "- This IS expected if you are initializing BertForMaskedLM from the checkpoint of a model trained on another task or with another architecture (e.g. initializing a BertForSequenceClassification model from a BertForPreTraining model).\n",
      "- This IS NOT expected if you are initializing BertForMaskedLM from the checkpoint of a model that you expect to be exactly identical (initializing a BertForSequenceClassification model from a BertForSequenceClassification model).\n"
     ]
    },
    {
     "name": "stdout",
     "output_type": "stream",
     "text": [
      "model size: 28351488 / bit | 28.35 / MB\n"
     ]
    },
    {
     "name": "stderr",
     "output_type": "stream",
     "text": [
      "Quantising model layers: 100%|██████████| 16/16 [00:06<00:00,  2.58it/s]\n"
     ]
    },
    {
     "name": "stdout",
     "output_type": "stream",
     "text": [
      "model size: 7530864 / bit | 7.53 / MB\n",
      "MSE: 2.7140448093414307\n",
      "Norm: 52.53758239746094\n",
      "RelativeMSE: 5.16591%\n"
     ]
    },
    {
     "data": {
      "text/plain": [
       "tensor(2.7140, grad_fn=<SqrtBackward0>)"
      ]
     },
     "execution_count": 3,
     "metadata": {},
     "output_type": "execute_result"
    }
   ],
   "source": [
    "# Load model directly\n",
    "from transformers import AutoTokenizer, AutoModelForMaskedLM\n",
    "from utils import quantise_model,get_model_memory_size, compute_quantisation_mse\n",
    "import torch\n",
    "\n",
    "tokenizer = AutoTokenizer.from_pretrained(\"google-bert/bert-base-uncased\")\n",
    "model = AutoModelForMaskedLM.from_pretrained(\"google-bert/bert-base-uncased\")\n",
    "\n",
    "model = model.bert.encoder.layer[0]\n",
    "input_tensor = torch.ones(1,10,768)\n",
    "\n",
    "t = model.forward(input_tensor)[0]\n",
    "\n",
    "get_model_memory_size(model)\n",
    "model, parameter_mapping = quantise_model(model, chunk_size=128)\n",
    "get_model_memory_size(model, parameter_mapping)\n",
    "\n",
    "with torch.no_grad():\n",
    "    tt = model.forward(input_tensor)[0]\n",
    "\n",
    "compute_quantisation_mse(t, tt)"
   ]
  },
  {
   "cell_type": "code",
   "execution_count": null,
   "metadata": {},
   "outputs": [],
   "source": []
  }
 ],
 "metadata": {
  "kernelspec": {
   "display_name": "vae",
   "language": "python",
   "name": "python3"
  },
  "language_info": {
   "codemirror_mode": {
    "name": "ipython",
    "version": 3
   },
   "file_extension": ".py",
   "mimetype": "text/x-python",
   "name": "python",
   "nbconvert_exporter": "python",
   "pygments_lexer": "ipython3",
   "version": "3.11.9"
  }
 },
 "nbformat": 4,
 "nbformat_minor": 2
}
