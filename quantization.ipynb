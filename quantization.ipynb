{
 "cells": [
  {
   "cell_type": "code",
   "execution_count": 44,
   "metadata": {},
   "outputs": [],
   "source": [
    "import sys\n",
    "import numpy as np\n",
    "\n",
    "x = np.array([-0.99, -0.98, -0.97, -0.96], dtype=np.float32)\n",
    "# x = np.array([-0.99, -0.3, 0.3, 0.96], dtype=np.float32)\n",
    "\n",
    "# symmetric case\n",
    "a = -np.abs(x).max()\n",
    "b = np.abs(x).max()\n",
    "\n",
    "# a-symmetric case\n",
    "# a = x.min()\n",
    "# b = x.max()\n",
    "\n",
    "q_a = -4\n",
    "q_b = 4\n",
    "\n",
    "s = (q_b - q_a)/(b - a)\n",
    "q_c = (q_a + q_b)/2\n",
    "c = (b + a)/2\n",
    "zero_point = q_c - s*c\n",
    "\n",
    "\n",
    "x_q = (s*x + zero_point).astype(np.int8)\n",
    "\n",
    "x_approx = (x_q - zero_point)/s\n",
    "\n",
    "mse = np.square(x_approx - x).sum()\n",
    "\n"
   ]
  },
  {
   "cell_type": "code",
   "execution_count": 1,
   "metadata": {},
   "outputs": [],
   "source": [
    "import torch\n",
    "import math\n",
    "from utils import scalar_quantisation, scalar_dequantisation, get_tensor_memory_size\n",
    "\n",
    "t = torch.rand((100, 100))\n",
    "t_flat = t.flatten()\n",
    "\n",
    "t_q = torch.zeros_like(t_flat).type(torch.int8)\n",
    "chunk_size = 512\n",
    "n_chunks = math.ceil(len(t_flat)/chunk_size)\n",
    "scales = torch.zeros(n_chunks)\n",
    "locations = torch.zeros(n_chunks)\n",
    "for chunk_id in range(n_chunks):\n",
    "\n",
    "    left = chunk_id * chunk_size\n",
    "    right = min(len(t_flat), (chunk_id+1)*chunk_size) \n",
    "\n",
    "    t_q[left:right], scales[chunk_id], locations[chunk_id] = scalar_quantisation(t_flat[left:right])\n",
    "\n"
   ]
  },
  {
   "cell_type": "code",
   "execution_count": 2,
   "metadata": {},
   "outputs": [
    {
     "data": {
      "text/plain": [
       "40000"
      ]
     },
     "execution_count": 2,
     "metadata": {},
     "output_type": "execute_result"
    }
   ],
   "source": [
    "get_tensor_memory_size(t_flat)"
   ]
  },
  {
   "cell_type": "code",
   "execution_count": 4,
   "metadata": {},
   "outputs": [
    {
     "data": {
      "text/plain": [
       "10160"
      ]
     },
     "execution_count": 4,
     "metadata": {},
     "output_type": "execute_result"
    }
   ],
   "source": [
    "get_tensor_memory_size(t_q) + get_tensor_memory_size(scales) + get_tensor_memory_size(locations)"
   ]
  },
  {
   "cell_type": "code",
   "execution_count": 75,
   "metadata": {},
   "outputs": [
    {
     "name": "stdout",
     "output_type": "stream",
     "text": [
      "MSE: 0.2302183359861374\n",
      "Norm: 57.57908248901367\n",
      "RelativeMSE: 0.39983%\n",
      "Required memory: 40000 vs 10080\n"
     ]
    }
   ],
   "source": [
    "from utils import quantise_tensor_flat, dequantise_tensor_flat, compute_quantisation_mse,get_tensor_memory_size\n",
    "import torch\n",
    "\n",
    "t = torch.rand((100, 100))\n",
    "\n",
    "t_q, scales, locations = quantise_tensor_flat(t, chunk_size=1024)\n",
    "t_approx = dequantise_tensor_flat(t_q, scales, locations)\n",
    "\n",
    "mse = compute_quantisation_mse(t.flatten(), t_approx)\n",
    "\n",
    "print(f'Required memory: {get_tensor_memory_size(t)} vs {get_tensor_memory_size(t_q) + get_tensor_memory_size(scales) + get_tensor_memory_size(locations)}')"
   ]
  },
  {
   "cell_type": "code",
   "execution_count": null,
   "metadata": {},
   "outputs": [],
   "source": []
  }
 ],
 "metadata": {
  "kernelspec": {
   "display_name": "vae",
   "language": "python",
   "name": "python3"
  },
  "language_info": {
   "codemirror_mode": {
    "name": "ipython",
    "version": 3
   },
   "file_extension": ".py",
   "mimetype": "text/x-python",
   "name": "python",
   "nbconvert_exporter": "python",
   "pygments_lexer": "ipython3",
   "version": "3.10.13"
  }
 },
 "nbformat": 4,
 "nbformat_minor": 2
}
