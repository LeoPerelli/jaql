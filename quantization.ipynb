{
 "cells": [
  {
   "cell_type": "code",
   "execution_count": 1,
   "metadata": {},
   "outputs": [
    {
     "name": "stdout",
     "output_type": "stream",
     "text": [
      "MSE: 0.07002327591180801\n",
      "Norm: 18.12198829650879\n",
      "RelativeMSE: 0.3864%\n",
      "MSE: 0.07093057036399841\n",
      "Norm: 17.9595890045166\n",
      "RelativeMSE: 0.39495%\n",
      "Required memory: 4000 vs 1032\n"
     ]
    }
   ],
   "source": [
    "from utils import quantise_tensor, dequantise_tensor, compute_quantisation_mse,get_tensor_memory_size\n",
    "import torch\n",
    "\n",
    "t = torch.rand((10, 100))\n",
    "chunk_size = 256\n",
    "t_q, scales, locations = quantise_tensor(t, chunk_size)\n",
    "t_approx = dequantise_tensor(t_q, scales, locations, chunk_size)\n",
    "\n",
    "mse = compute_quantisation_mse(t, t_approx)\n",
    "\n",
    "print(f'Required memory: {get_tensor_memory_size(t)} vs {get_tensor_memory_size(t_q) + get_tensor_memory_size(scales) + get_tensor_memory_size(locations)}')"
   ]
  },
  {
   "cell_type": "code",
   "execution_count": 2,
   "metadata": {},
   "outputs": [
    {
     "name": "stderr",
     "output_type": "stream",
     "text": [
      "Some weights of the model checkpoint at google-bert/bert-base-uncased were not used when initializing BertForMaskedLM: ['bert.pooler.dense.bias', 'bert.pooler.dense.weight', 'cls.seq_relationship.bias', 'cls.seq_relationship.weight']\n",
      "- This IS expected if you are initializing BertForMaskedLM from the checkpoint of a model trained on another task or with another architecture (e.g. initializing a BertForSequenceClassification model from a BertForPreTraining model).\n",
      "- This IS NOT expected if you are initializing BertForMaskedLM from the checkpoint of a model that you expect to be exactly identical (initializing a BertForSequenceClassification model from a BertForSequenceClassification model).\n"
     ]
    }
   ],
   "source": [
    "# Load model directly\n",
    "from transformers import AutoTokenizer, AutoModelForMaskedLM\n",
    "\n",
    "tokenizer = AutoTokenizer.from_pretrained(\"google-bert/bert-base-uncased\")\n",
    "model = AutoModelForMaskedLM.from_pretrained(\"google-bert/bert-base-uncased\")"
   ]
  },
  {
   "cell_type": "code",
   "execution_count": 3,
   "metadata": {},
   "outputs": [],
   "source": [
    "model = model.bert.encoder.layer[0]"
   ]
  },
  {
   "cell_type": "code",
   "execution_count": 4,
   "metadata": {},
   "outputs": [
    {
     "name": "stderr",
     "output_type": "stream",
     "text": [
      "0it [00:00, ?it/s]"
     ]
    },
    {
     "name": "stderr",
     "output_type": "stream",
     "text": [
      "16it [00:58,  3.65s/it]\n"
     ]
    }
   ],
   "source": [
    "from tqdm import tqdm\n",
    "import torch\n",
    "\n",
    "def quantise_model(model, chunk_size):\n",
    "    parameter_mapping = {}\n",
    "\n",
    "    d = model.state_dict()\n",
    "    for parameter_name, p in tqdm(model.named_parameters()):\n",
    "        d[parameter_name], scales, locations = quantise_tensor(p, chunk_size)\n",
    "        parameter_mapping[parameter_name] = {'scales':scales, 'locations': locations, 'chunk_size': chunk_size}\n",
    "\n",
    "    model.load_state_dict(d)\n",
    "\n",
    "    return model, parameter_mapping\n",
    "\n",
    "model, parameter_mapping = quantise_model(model, chunk_size=4)\n",
    "# print(model.state_dict())\n",
    "leaf_modules = []\n",
    "for module_name, m in model.named_modules():\n",
    "    if len(list(m.named_modules())) == 1:\n",
    "        leaf_modules.append(module_name)"
   ]
  },
  {
   "cell_type": "code",
   "execution_count": 5,
   "metadata": {},
   "outputs": [],
   "source": [
    "def hook_factory(leaf_module_name):\n",
    "\n",
    "    def dequantise_hook(module, args):\n",
    "        d = module.state_dict()\n",
    "        module.quantised_state = {}\n",
    "        parameter_names = [p for p, _ in module.named_parameters()]\n",
    "        for parameter_name in parameter_names:\n",
    "            global_parameter_name = f'{leaf_module_name}.{parameter_name}'\n",
    "            p = module.get_parameter(parameter_name)\n",
    "            module.quantised_state[parameter_name] = p.clone()\n",
    "            p_approx = dequantise_tensor(p, parameter_mapping[global_parameter_name]['scales'], parameter_mapping[global_parameter_name]['locations'],parameter_mapping[global_parameter_name]['chunk_size'])\n",
    "            d[parameter_name] = p_approx\n",
    "        \n",
    "        module.load_state_dict(d)\n",
    "\n",
    "\n",
    "    def cleanup_hook(module, args, output):\n",
    "        d = module.state_dict()\n",
    "        for parameter_name, p in module.quantised_state.items():\n",
    "            d[parameter_name] = p\n",
    "\n",
    "        module.load_state_dict(d)\n",
    "\n",
    "    return dequantise_hook, cleanup_hook\n",
    "\n",
    "for leaf_module in leaf_modules:\n",
    "    dequantise_hook, cleanup_hook = hook_factory(leaf_module)\n",
    "    model.get_submodule(leaf_module).register_forward_pre_hook(dequantise_hook)\n",
    "    model.get_submodule(leaf_module).register_forward_hook(cleanup_hook)\n",
    "\n",
    "\n"
   ]
  },
  {
   "cell_type": "code",
   "execution_count": 6,
   "metadata": {},
   "outputs": [
    {
     "data": {
      "text/plain": [
       "(tensor([[[-0.0471, -0.0135, -0.2095,  ...,  0.1135, -0.6417, -0.0570],\n",
       "          [-0.0471, -0.0135, -0.2095,  ...,  0.1135, -0.6417, -0.0570],\n",
       "          [-0.0471, -0.0135, -0.2095,  ...,  0.1135, -0.6417, -0.0570],\n",
       "          ...,\n",
       "          [-0.0471, -0.0135, -0.2095,  ...,  0.1135, -0.6417, -0.0570],\n",
       "          [-0.0471, -0.0135, -0.2095,  ...,  0.1135, -0.6417, -0.0570],\n",
       "          [-0.0471, -0.0135, -0.2095,  ...,  0.1135, -0.6417, -0.0570]]],\n",
       "        grad_fn=<NativeLayerNormBackward0>),)"
      ]
     },
     "execution_count": 6,
     "metadata": {},
     "output_type": "execute_result"
    }
   ],
   "source": [
    "model.forward(torch.ones(1,10,768))"
   ]
  },
  {
   "cell_type": "code",
   "execution_count": null,
   "metadata": {},
   "outputs": [],
   "source": []
  }
 ],
 "metadata": {
  "kernelspec": {
   "display_name": "vae",
   "language": "python",
   "name": "python3"
  },
  "language_info": {
   "codemirror_mode": {
    "name": "ipython",
    "version": 3
   },
   "file_extension": ".py",
   "mimetype": "text/x-python",
   "name": "python",
   "nbconvert_exporter": "python",
   "pygments_lexer": "ipython3",
   "version": "3.10.13"
  }
 },
 "nbformat": 4,
 "nbformat_minor": 2
}
